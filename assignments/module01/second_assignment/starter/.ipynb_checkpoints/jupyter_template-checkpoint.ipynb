{
 "cells": [
  {
   "cell_type": "markdown",
   "metadata": {
    "nbgrader": {
     "grade": false,
     "grade_id": "intro",
     "locked": true,
     "schema_version": 1,
     "solution": false
    }
   },
   "source": [
    "For the meeting today, we can treat this as the template notebook we want to provide. Later, I will update it to contain good standards for grading cells and setup, a lot of which is from https://nbgrader.readthedocs.io/en/stable/configuration/student_version.html\n",
    "it looks like all cells are run and then tests are matched?\n",
    "\n",
    "Also give info on how to set cell types, etc., cell id conventions, ...\n",
    "\n",
    "- Why can I not see the file tree when I edit assignment\n",
    "- We definitely do not want them to have access to the terminal, right (?)\n",
    "    -- In CMU-INAI, for example, we had to issue a bugfix by asking them to download a package through the terminal\n",
    "\n",
    "\n",
    "\n"
   ]
  },
  {
   "cell_type": "code",
   "execution_count": 7,
   "metadata": {
    "nbgrader": {
     "grade": false,
     "grade_id": "gcd_answer",
     "locked": false,
     "schema_version": 1,
     "solution": true
    }
   },
   "outputs": [],
   "source": [
    "# Here is a test question 1\n",
    "\n",
    "def GCD(a, b):\n",
    "    # Return the GCD of a and b using the euclidian algorithm\n",
    "    ### BEGIN SOLUTION\n",
    "    # This a simple recursive solution\n",
    "    return GCD(b % a, a) if a else b\n",
    "    ### END SOLUTION"
   ]
  },
  {
   "cell_type": "code",
   "execution_count": 15,
   "metadata": {
    "nbgrader": {
     "grade": true,
     "grade_id": "gcd_tests",
     "locked": true,
     "points": 10,
     "schema_version": 1,
     "solution": false
    }
   },
   "outputs": [],
   "source": [
    "# Here are tests for question 1\n",
    "assert GCD(60, 45) == GCD(45, 60) == 15\n",
    "assert GCD(200, 1) == 1\n",
    "assert GCD(25, 65) == 5\n",
    "### BEGIN HIDDEN TESTS\n",
    "# It can be helpful to redefine the function in as given in the solution, but with a different name, to compare values.\n",
    "def sol_GCD(a, b):\n",
    "    return GCD(b % a, a) if a else b\n",
    "\n",
    "# Correctness tests\n",
    "for x in range(1, 100):\n",
    "    for y in range(1, 50):\n",
    "        assert GCD(x, y) == sol_GCD(x, y), f\"GCD failed for GCD({x}, {y})\"\n",
    "        \n",
    "# Run efficiency tests?\n",
    "\n",
    "### END HIDDEN TESTS\n"
   ]
  },
  {
   "cell_type": "code",
   "execution_count": null,
   "metadata": {},
   "outputs": [],
   "source": []
  }
 ],
 "metadata": {
  "celltoolbar": "Create Assignment",
  "kernelspec": {
   "display_name": "Python 3",
   "language": "python",
   "name": "python3"
  },
  "language_info": {
   "codemirror_mode": {
    "name": "ipython",
    "version": 3
   },
   "file_extension": ".py",
   "mimetype": "text/x-python",
   "name": "python",
   "nbconvert_exporter": "python",
   "pygments_lexer": "ipython3",
   "version": "3.6.9"
  }
 },
 "nbformat": 4,
 "nbformat_minor": 2
}
