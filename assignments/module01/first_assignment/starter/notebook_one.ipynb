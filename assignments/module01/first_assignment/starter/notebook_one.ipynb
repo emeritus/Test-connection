{
 "cells": [
  {
   "cell_type": "markdown",
   "metadata": {},
   "source": [
    "# jupyter-notebook Assignment Template\n",
    "\n",
    "This file is a template that contains basic structure and usage for creating an nbgrader-compatible notebook assignment."
   ]
  },
  {
   "cell_type": "markdown",
   "metadata": {},
   "source": [
    "The actual format is pretty flexible. In this guide, we provide an example question and show what nbgrader will do to the notebook when creating the student assignment version. You can use these principles to format the document as you wish, but it is reccommended to stick to this format for simplicity and consistency. For more information on how nbgrader works in detail, see the documentation at https://nbgrader.readthedocs.io/en/stable/configuration/student_version.html.\n",
    "\n",
    "Here is an example question."
   ]
  },
  {
   "cell_type": "markdown",
   "metadata": {
    "nbgrader": {
     "grade": false,
     "grade_id": "cell-a74592f1b3f2fe22",
     "locked": true,
     "schema_version": 1,
     "solution": false
    }
   },
   "source": [
    " ### Question 1: The Euclidian Algorithm\n",
    " \n",
    " Write the `GCD` function below, which takes two numbers and returns their GCD. You should refer to the lecture notes on how to implement the Euclidian algorithm when completing the function."
   ]
  },
  {
   "cell_type": "code",
   "execution_count": null,
   "metadata": {
    "nbgrader": {
     "grade": false,
     "grade_id": "cell-99ccc0ea01c8e88d",
     "locked": false,
     "schema_version": 1,
     "solution": true
    }
   },
   "outputs": [],
   "source": [
    "def GCD(a, b):\n",
    "    # Return the GCD of a and b using the euclidian algorithm\n",
    "    ### BEGIN SOLUTION\n",
    "    # This a simple recursive solution\n",
    "    return GCD(b % a, a) if a else b\n",
    "    ### END SOLUTION"
   ]
  },
  {
   "cell_type": "code",
   "execution_count": 7,
   "metadata": {
    "nbgrader": {
     "grade": true,
     "grade_id": "cell-d75ad048d692ef5a",
     "locked": true,
     "points": 1,
     "schema_version": 1,
     "solution": false
    }
   },
   "outputs": [],
   "source": [
    "assert GCD(60, 45) == GCD(45, 60) == 15\n",
    "assert GCD(200, 1) == 1\n",
    "assert GCD(25, 65) == 5\n",
    "\n",
    "### BEGIN HIDDEN TESTS\n",
    "def sol_GCD(a, b):\n",
    "    return GCD(b % a, a) if a else b\n",
    "\n",
    "# Correctness tests\n",
    "for x in range(1, 100):\n",
    "    for y in range(1, 50):\n",
    "        assert GCD(x, y) == sol_GCD(x, y), f\"GCD failed for GCD({x}, {y})\"\n",
    "\n",
    "### END HIDDEN TESTS"
   ]
  },
  {
   "cell_type": "markdown",
   "metadata": {},
   "source": [
    "Let's break this down.\n",
    "\n",
    "First, we have a markdown cell which introduces the student to the question, including any information or context that may help them. This improves readability for the student.\n",
    "\n",
    "Next, we provide a cell which has the area that the student will actually write their code. This includes a function we want them to complete, with a brief description of what the function does. Within this section, you will notice `### BEGIN SOLUTION` and `### END SOLUTION` delimiters. When nbgrader creates the student version of the assignment, it will remove everything in these bounds and replace it with (by default) \n",
    "\n",
    "`# YOUR CODE HERE`\n",
    "\n",
    "`raise NotImplementedError`\n",
    "\n",
    "At the correct indentation level. This allows space for the students to write their solution.\n",
    "\n",
    "Lastly, there is a cell containing test cases to assess the correctness of the student's code. These cells are run by nbgrader against the student's solution to determine their grade. Within this section, you will notice `### BEGIN HIDDEN TESTS` and `### END HIDDEN TESTS` delimiters. Similarly to before, nbgrader will remove all code in this space when creating the student assignment, but it will not replace it with anything. Therefore, the only tests which the students will actually see are those which are outside of this area. Generally, it is reccommended to provide a few test cases visible to the student so that they may better understand the question.\n",
    "\n",
    "The tests are in the form `assert <test>, <error_message>`, which will throw an error to nbgrader if the `<test>` is false, providing the `<error_message>` in the grade report."
   ]
  },
  {
   "cell_type": "markdown",
   "metadata": {},
   "source": [
    "Your notebook can also contain other markdown cells to direct the student or code cells to help the assignment function.\n",
    "\n",
    "Once you complete the assignment file, you will have to specify which cells are which type. If you are working in a Codio project, you can do this from the Jupyter toolbar via View->Cell Toolbar->Create Assignment which will show a cell type dropdown for each cell. For more information on how to set these, see the Developing Assignments in Codio guide."
   ]
  }
 ],
 "metadata": {
  "celltoolbar": "Create Assignment",
  "kernelspec": {
   "display_name": "Python 3",
   "language": "python",
   "name": "python3"
  },
  "language_info": {
   "codemirror_mode": {
    "name": "ipython",
    "version": 3
   },
   "file_extension": ".py",
   "mimetype": "text/x-python",
   "name": "python",
   "nbconvert_exporter": "python",
   "pygments_lexer": "ipython3",
   "version": "3.6.9"
  }
 },
 "nbformat": 4,
 "nbformat_minor": 2
}
